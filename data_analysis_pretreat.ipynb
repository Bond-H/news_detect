{
 "cells": [
  {
   "cell_type": "code",
   "execution_count": 44,
   "metadata": {},
   "outputs": [
    {
     "data": {
      "text/html": [
       "<div>\n",
       "<style scoped>\n",
       "    .dataframe tbody tr th:only-of-type {\n",
       "        vertical-align: middle;\n",
       "    }\n",
       "\n",
       "    .dataframe tbody tr th {\n",
       "        vertical-align: top;\n",
       "    }\n",
       "\n",
       "    .dataframe thead th {\n",
       "        text-align: right;\n",
       "    }\n",
       "</style>\n",
       "<table border=\"1\" class=\"dataframe\">\n",
       "  <thead>\n",
       "    <tr style=\"text-align: right;\">\n",
       "      <th></th>\n",
       "      <th>0</th>\n",
       "      <th>1</th>\n",
       "      <th>2</th>\n",
       "      <th>3</th>\n",
       "    </tr>\n",
       "  </thead>\n",
       "  <tbody>\n",
       "    <tr>\n",
       "      <th>0</th>\n",
       "      <td>1</td>\n",
       "      <td>﻿怎么更改花呗手机号码</td>\n",
       "      <td>我的花呗是以前的手机号码，怎么更改成现在的支付宝的号码手机号</td>\n",
       "      <td>1</td>\n",
       "    </tr>\n",
       "    <tr>\n",
       "      <th>1</th>\n",
       "      <td>2</td>\n",
       "      <td>也开不了花呗，就这样了？完事了</td>\n",
       "      <td>真的嘛？就是花呗付款</td>\n",
       "      <td>0</td>\n",
       "    </tr>\n",
       "    <tr>\n",
       "      <th>2</th>\n",
       "      <td>3</td>\n",
       "      <td>花呗冻结以后还能开通吗</td>\n",
       "      <td>我的条件可以开通花呗借款吗</td>\n",
       "      <td>0</td>\n",
       "    </tr>\n",
       "    <tr>\n",
       "      <th>3</th>\n",
       "      <td>4</td>\n",
       "      <td>如何得知关闭借呗</td>\n",
       "      <td>想永久关闭借呗</td>\n",
       "      <td>0</td>\n",
       "    </tr>\n",
       "    <tr>\n",
       "      <th>4</th>\n",
       "      <td>5</td>\n",
       "      <td>花呗扫码付钱</td>\n",
       "      <td>二维码扫描可以用花呗吗</td>\n",
       "      <td>0</td>\n",
       "    </tr>\n",
       "  </tbody>\n",
       "</table>\n",
       "</div>"
      ],
      "text/plain": [
       "   0                1                               2  3\n",
       "0  1      ﻿怎么更改花呗手机号码  我的花呗是以前的手机号码，怎么更改成现在的支付宝的号码手机号  1\n",
       "1  2  也开不了花呗，就这样了？完事了                      真的嘛？就是花呗付款  0\n",
       "2  3      花呗冻结以后还能开通吗                   我的条件可以开通花呗借款吗  0\n",
       "3  4         如何得知关闭借呗                         想永久关闭借呗  0\n",
       "4  5           花呗扫码付钱                     二维码扫描可以用花呗吗  0"
      ]
     },
     "execution_count": 44,
     "metadata": {},
     "output_type": "execute_result"
    }
   ],
   "source": [
    "import pandas as pd\n",
    "train_data = pd.read_csv('atec_nlp_sim_train.csv',sep='\\t',header=-1)\n",
    "train_data.head()"
   ]
  },
  {
   "cell_type": "code",
   "execution_count": 45,
   "metadata": {},
   "outputs": [
    {
     "name": "stdout",
     "output_type": "stream",
     "text": [
      "[1 0 0 0 0 0 0 0 0 0 0 0 0 0 0 1 0 1 0 0 0 1 0 0 1 0 0 0 0 0 0 1 0 1 0 0 0\n",
      " 0 0 0 0 1 0 0 0 0 0 1 0 0 0 0 0 0 0 0 0 1 1 0 0 1 0 1 0 0 1 0 0 0 0 0 0 1\n",
      " 0 0 0 0 0 0 0 0 0 0 0 0 0 1 0 0 0 0 0 0 0 0 0 0 0 1]\n"
     ]
    }
   ],
   "source": [
    "import pickle as pk\n",
    "tag_data = train_data[3].values\n",
    "file = open('tag_data.pkl','wb')\n",
    "pk.dump(tag_data,file)\n",
    "file.close()\n",
    "print(tag_data[0:100])"
   ]
  },
  {
   "cell_type": "code",
   "execution_count": 5,
   "metadata": {},
   "outputs": [
    {
     "name": "stdout",
     "output_type": "stream",
     "text": [
      "0.2159987541528239\n"
     ]
    }
   ],
   "source": [
    "#正类占所有数据的比重，略微不平衡，正负类1:4\n",
    "print(sum(train_data[3])/len(train_data))"
   ]
  },
  {
   "cell_type": "code",
   "execution_count": 7,
   "metadata": {},
   "outputs": [
    {
     "name": "stdout",
     "output_type": "stream",
     "text": [
      "0        ﻿怎么更改花呗手机号码\n",
      "1    也开不了花呗，就这样了？完事了\n",
      "2        花呗冻结以后还能开通吗\n",
      "3           如何得知关闭借呗\n",
      "4             花呗扫码付钱\n",
      "dtype: object\n",
      "19264 38528\n"
     ]
    }
   ],
   "source": [
    "sent_all = pd.concat([train_data[1],train_data[2]])\n",
    "print(sent_all.head())\n",
    "print(len(train_data),len(sent_all))"
   ]
  },
  {
   "cell_type": "code",
   "execution_count": 11,
   "metadata": {},
   "outputs": [
    {
     "name": "stdout",
     "output_type": "stream",
     "text": [
      "84 5 13.347850913621263 5.978861447661369\n"
     ]
    },
    {
     "data": {
      "image/png": "[encoded data removed]",
      "text/plain": [
       "<matplotlib.figure.Figure at 0x7f0ac86169e8>"
      ]
     },
     "metadata": {},
     "output_type": "display_data"
    }
   ],
   "source": [
    "import numpy as np\n",
    "#分析句子的长度(以字为粒度)\n",
    "len_sent = [len(x) for x in sent_all]\n",
    "print(max(len_sent),min(len_sent),np.mean(len_sent),np.std(len_sent))\n",
    "\n",
    "#句子长度分布图，由图可看出，大约选择长度30即可\n",
    "import matplotlib.pyplot as plt\n",
    "%matplotlib inline\n",
    "plt.hist(len_sent,bins=100,color=\"red\",normed=True)\n",
    "plt.show()"
   ]
  },
  {
   "cell_type": "code",
   "execution_count": 14,
   "metadata": {},
   "outputs": [
    {
     "name": "stderr",
     "output_type": "stream",
     "text": [
      "100%|██████████| 38528/38528 [00:02<00:00, 17289.84it/s]\n"
     ]
    },
    {
     "name": "stdout",
     "output_type": "stream",
     "text": [
      "64 2 8.03719372923588 4.154860527572729\n"
     ]
    },
    {
     "data": {
      "image/png": "[encoded data removed]",
      "text/plain": [
       "<matplotlib.figure.Figure at 0x7f0ac8303588>"
      ]
     },
     "metadata": {},
     "output_type": "display_data"
    }
   ],
   "source": [
    "#分析句子长度(以词为粒度)\n",
    "import jieba\n",
    "from tqdm import tqdm\n",
    "#输出分析发现花呗、借呗这类词出现过于频繁，故而加入这些词\n",
    "jieba.add_word('花呗')\n",
    "jieba.add_word('借呗')\n",
    "\n",
    "data_split = [jieba.lcut(x) for x in tqdm(sent_all)]\n",
    "len_word = [len(x) for x in data_split]\n",
    "print(max(len_word),min(len_word),np.mean(len_word),np.std(len_word))\n",
    "\n",
    "#从图分析可知\n",
    "%matplotlib inline\n",
    "plt.hist(len_word,bins=100,color=\"red\",normed=True)\n",
    "plt.show()"
   ]
  },
  {
   "cell_type": "code",
   "execution_count": 43,
   "metadata": {},
   "outputs": [
    {
     "name": "stdout",
     "output_type": "stream",
     "text": [
      "5937\n",
      "5941\n"
     ]
    }
   ],
   "source": [
    "# 分词后不同词的总数\n",
    "wordlist = []\n",
    "for x in data_split:\n",
    "    for word in x:\n",
    "        if word not in wordlist:\n",
    "            wordlist.append(word)\n",
    "print(len(wordlist))\n",
    "\n",
    "from torchnlp.text_encoders import WhitespaceEncoder\n",
    "split_dataTmp = [\" \".join(x) for x in data_split]\n",
    "encoder = WhitespaceEncoder(split_dataTmp, min_occurrences=1)\n",
    "print(len(encoder.vocab))"
   ]
  },
  {
   "cell_type": "code",
   "execution_count": null,
   "metadata": {},
   "outputs": [],
   "source": []
  },
  {
   "cell_type": "code",
   "execution_count": 17,
   "metadata": {},
   "outputs": [
    {
     "name": "stdout",
     "output_type": "stream",
     "text": [
      "[['是否', '有', '花呗', '就', '不', '可以', '借呗'], ['闲鱼', '可以', '使用', '花呗', '吗'], ['花呗', '可以', '买手机', '吗'], ['借呗', '每月', '还款', '时间'], ['花呗', '更改', '绑定', '银行卡'], ['人脸', '验证', '开通', '花呗'], ['借呗', '可以', '提前', '还', '第一期', '吗'], ['花呗', '付款', '成功', '为何', '美团', '显示', '支付', '超时'], ['花呗', '我', '已经', '还', '了', '，', '现在', '要', '还', '借呗'], ['国外', '账户', '可以', '开通', '借呗', '吗']]\n"
     ]
    }
   ],
   "source": [
    "print(data_split[20:30])"
   ]
  },
  {
   "cell_type": "code",
   "execution_count": 20,
   "metadata": {},
   "outputs": [],
   "source": [
    "import pickle as pk\n",
    "file = open('split_data.pkl','wb')\n",
    "pk.dump(data_split,file)\n",
    "file.close()"
   ]
  },
  {
   "cell_type": "code",
   "execution_count": null,
   "metadata": {},
   "outputs": [],
   "source": []
  }
 ],
 "metadata": {
  "kernelspec": {
   "display_name": "Python 3",
   "language": "python",
   "name": "python3"
  },
  "language_info": {
   "codemirror_mode": {
    "name": "ipython",
    "version": 3
   },
   "file_extension": ".py",
   "mimetype": "text/x-python",
   "name": "python",
   "nbconvert_exporter": "python",
   "pygments_lexer": "ipython3",
   "version": "3.6.4"
  }
 },
 "nbformat": 4,
 "nbformat_minor": 2
}
